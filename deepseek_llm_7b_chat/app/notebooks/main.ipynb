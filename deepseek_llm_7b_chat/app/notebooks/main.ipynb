{
 "cells": [
  {
   "cell_type": "markdown",
   "metadata": {},
   "source": [
    "# DeepSeek-LLM-7b-Chat Model Chat-Box"
   ]
  },
  {
   "cell_type": "markdown",
   "metadata": {},
   "source": [
    "### Imports and Configuration"
   ]
  },
  {
   "cell_type": "code",
   "execution_count": null,
   "metadata": {},
   "outputs": [
    {
     "ename": "ModuleNotFoundError",
     "evalue": "No module named 'gradio'",
     "output_type": "error",
     "traceback": [
      "\u001b[31m---------------------------------------------------------------------------\u001b[39m",
      "\u001b[31mModuleNotFoundError\u001b[39m                       Traceback (most recent call last)",
      "\u001b[36mCell\u001b[39m\u001b[36m \u001b[39m\u001b[32mIn[2]\u001b[39m\u001b[32m, line 3\u001b[39m\n\u001b[32m      1\u001b[39m \u001b[38;5;28;01mfrom\u001b[39;00m\u001b[38;5;250m \u001b[39m\u001b[34;01mIPython\u001b[39;00m\u001b[34;01m.\u001b[39;00m\u001b[34;01mdisplay\u001b[39;00m\u001b[38;5;250m \u001b[39m\u001b[38;5;28;01mimport\u001b[39;00m display, HTML\n\u001b[32m      2\u001b[39m \u001b[38;5;28;01mimport\u001b[39;00m\u001b[38;5;250m \u001b[39m\u001b[34;01mtransformers\u001b[39;00m\n\u001b[32m----> \u001b[39m\u001b[32m3\u001b[39m \u001b[38;5;28;01mimport\u001b[39;00m\u001b[38;5;250m \u001b[39m\u001b[34;01mgradio\u001b[39;00m\n\u001b[32m      4\u001b[39m \u001b[38;5;28;01mimport\u001b[39;00m\u001b[38;5;250m \u001b[39m\u001b[34;01mos\u001b[39;00m,\u001b[38;5;250m \u001b[39m\u001b[34;01myaml\u001b[39;00m\n\u001b[32m      5\u001b[39m \u001b[38;5;28;01mimport\u001b[39;00m\u001b[38;5;250m \u001b[39m\u001b[34;01mlogging\u001b[39;00m\n",
      "\u001b[31mModuleNotFoundError\u001b[39m: No module named 'gradio'"
     ]
    }
   ],
   "source": [
    "from IPython.display import display, HTML\n",
    "import transformers\n",
    "import gradio\n",
    "import os, yaml\n",
    "import logging\n",
    "import torch"
   ]
  },
  {
   "cell_type": "code",
   "execution_count": null,
   "metadata": {},
   "outputs": [],
   "source": [
    "config_path = os.path.join('..', '..', 'config', 'config.yml')\n",
    "with open(config_path, 'r') as file:\n",
    "    config = yaml.safe_load(file)"
   ]
  },
  {
   "cell_type": "markdown",
   "metadata": {},
   "source": [
    "## Model Loading"
   ]
  },
  {
   "cell_type": "code",
   "execution_count": null,
   "metadata": {},
   "outputs": [],
   "source": [
    "logging.basicConfig(level=logging.INFO)\n",
    "logger = logging.getLogger(__name__)\n",
    "\n",
    "app_dir = os.path.join('..', os.getcwd())\n",
    "model_dir = os.path.join('..', config['model']['path'])\n",
    "print(model_dir)\n",
    "model_name = config['model']['model_name']\n",
    "\n",
    "snapshots = os.listdir(model_dir)\n",
    "\n",
    "if snapshots:\n",
    "    latest_snapshot = snapshots[0] # Assuming the first one is the latest\n",
    "    full_model_dir = os.path.join(model_dir, latest_snapshot)\n",
    "    logger.info(f\"Model path: {full_model_dir}\")\n",
    "else:\n",
    "    logger.info(f\"No snapshots found inside {model_dir}\")\n",
    "try:\n",
    "    logger.info(f\"Attempting to load tokenizer and model from {full_model_dir}\")\n",
    "    tokenizer = transformers.AutoTokenizer.from_pretrained(full_model_dir)\n",
    "    logger.info(\"Model and tokenizer successfully loaded from primary directory.\")\n",
    "    model_id = full_model_dir\n",
    "\n",
    "except Exception as e:\n",
    "    logger.error(f\"An unexpected error occurred: {e}\")\n",
    "    display(HTML(\"<h1 style='color:red;'>Unexpected Error: Notebook execution stopped.</h1>\"))\n",
    "    raise SystemExit(f\"An unexpected error occurred: {e}\")"
   ]
  },
  {
   "cell_type": "code",
   "execution_count": null,
   "metadata": {},
   "outputs": [],
   "source": [
    "pipeline = transformers.pipeline(\n",
    "    \"text-generation\",\n",
    "    model=model_id,\n",
    "    tokenizer = tokenizer,\n",
    "    model_kwargs={\"torch_dtype\": torch.bfloat16},\n",
    "    device_map=\"auto\",\n",
    "    return_full_text=False,\n",
    "    max_new_tokens=300,\n",
    "    do_sample=True,\n",
    "    temperature=0.7\n",
    ")"
   ]
  },
  {
   "cell_type": "markdown",
   "metadata": {},
   "source": [
    "## Chat Status Class"
   ]
  },
  {
   "cell_type": "code",
   "execution_count": null,
   "metadata": {},
   "outputs": [],
   "source": [
    "class ChatStatus():\n",
    "    \"\"\"Manages the conversation history for a turn-based chatbot\"\"\"\n",
    "\n",
    "    def __init__(self, pipeline, tokenizer, max_position_embeddings=32768) -> None:\n",
    "        self.pipeline = pipeline\n",
    "        self.tokenizer = tokenizer\n",
    "        self.history = []\n",
    "        self.max_position_embeddings = max_position_embeddings\n",
    "    \n",
    "    def add_message(self, role: str, content: str):\n",
    "        \"\"\"Adds a message to the history.\"\"\"\n",
    "        if role not in (\"user\", \"assistant\"):\n",
    "            raise ValueError(\"Role must be either 'user' or 'assistant'\")\n",
    "        self.history.append({\"role\": role, \"content\": content})\n",
    "        \n",
    "    def get_history_as_text(self) -> str:\n",
    "        \"\"\"Returns the chat history as a formatted string.\"\"\"\n",
    "        return \"\\n\".join(f\"{msg['role']}: {msg['content']}\" for msg in self.history)\n",
    "\n",
    "\n",
    "    def _truncate_history(self):\n",
    "        \"\"\"\n",
    "        Truncates history if it exceeds the model's max input length.\n",
    "        Removes the oldest entries first.\n",
    "        \"\"\"\n",
    "        while True:\n",
    "            encoded = self.tokenizer(\n",
    "                self.get_history_as_text(),\n",
    "                return_tensors=\"pt\",\n",
    "                truncation=False\n",
    "            )[\"input_ids\"]\n",
    "\n",
    "            if encoded.shape[1] <= self.max_position_embeddings or len(self.history) <= 1:\n",
    "                break\n",
    "            self.history.pop(0)  # drop oldest message\n",
    "\n",
    "    def send_message(self, message: str) -> str:\n",
    "        \"\"\"\n",
    "        Sends a user message, gets the model response, and updates history.\n",
    "        \"\"\"\n",
    "        self.add_message(\"user\", message)\n",
    "        self._truncate_history()\n",
    "\n",
    "        response = self.pipeline(self.history)\n",
    "        reply = response[0][\"generated_text\"]\n",
    "\n",
    "        self.add_message(\"assistant\", reply)\n",
    "        return reply"
   ]
  },
  {
   "cell_type": "code",
   "execution_count": null,
   "metadata": {},
   "outputs": [],
   "source": [
    "chat_status = ChatStatus(pipeline, tokenizer)\n",
    "\n",
    "def chat(prompt):\n",
    "    response = chat_status.send_message(prompt)\n",
    "    return response"
   ]
  },
  {
   "cell_type": "markdown",
   "metadata": {},
   "source": [
    "## NeuralBox App - w/Gradio"
   ]
  },
  {
   "cell_type": "code",
   "execution_count": null,
   "metadata": {},
   "outputs": [],
   "source": [
    "app = gradio.Interface(\n",
    "    fn= chat,\n",
    "    inputs=gradio.Textbox(lines=2, placeholder=\"Type here...\"),\n",
    "    outputs=\"text\",\n",
    "    title=\"DeepSeek-LLM-7b-Chat Chat-Box\",\n",
    "    description=\"Chat with DeepSeek-LLM-7b-Chat\"\n",
    ")\n",
    "\n",
    "app.launch(server_port=7860, server_name=\"0.0.0.0\", debug=True)"
   ]
  }
 ],
 "metadata": {
  "kernelspec": {
   "display_name": ".venv",
   "language": "python",
   "name": "python3"
  },
  "language_info": {
   "codemirror_mode": {
    "name": "ipython",
    "version": 3
   },
   "file_extension": ".py",
   "mimetype": "text/x-python",
   "name": "python",
   "nbconvert_exporter": "python",
   "pygments_lexer": "ipython3",
   "version": "3.13.3"
  }
 },
 "nbformat": 4,
 "nbformat_minor": 2
}
